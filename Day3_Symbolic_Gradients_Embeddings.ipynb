{
  "nbformat": 4,
  "nbformat_minor": 0,
  "metadata": {
    "colab": {
      "provenance": []
    },
    "kernelspec": {
      "name": "python3",
      "display_name": "Python 3"
    },
    "language_info": {
      "name": "python"
    }
  },
  "cells": [
    {
      "cell_type": "markdown",
      "source": [
        "Code Math Derivations: Symbolic Gradients Ramp-Up (45-60 mins): Build on Day 2's basics—start simple, then multivariable. Use SymPy to derive gradients symbolically; this preps for AI-scale ops like optimizing embeddings.\n",
        "Basic univariate: Define a function and compute its derivative."
      ],
      "metadata": {
        "id": "mC4cby93iIHQ"
      }
    },
    {
      "cell_type": "code",
      "execution_count": 2,
      "metadata": {
        "colab": {
          "base_uri": "https://localhost:8080/"
        },
        "id": "dNgJRWqphs5I",
        "outputId": "f20081c0-742f-4f6e-bf18-4db9a0ad87d4"
      },
      "outputs": [
        {
          "output_type": "stream",
          "name": "stdout",
          "text": [
            "Derivative: 2*x + cos(x)\n",
            "Eval 2.54030230586814\n"
          ]
        }
      ],
      "source": [
        "import sympy as sp\n",
        "import numpy as np\n",
        "import torch\n",
        "import matplotlib.pyplot as plt\n",
        "\n",
        "x = sp.symbols('x')\n",
        "f = x**2 + sp.sin(x)\n",
        "df = sp.diff(f, x)\n",
        "print(\"Derivative:\", df)  # Output: 2*x + cos(x)\n",
        "# Evaluate numerically\n",
        "print(\"Eval\", df.subs(x, 1).evalf())"
      ]
    },
    {
      "cell_type": "markdown",
      "source": [
        "Extend to multivariable (embeddings twist): Think vectors as points in high-dim space."
      ],
      "metadata": {
        "id": "29RKFAlri1cD"
      }
    },
    {
      "cell_type": "code",
      "source": [
        "y = sp.symbols('y')\n",
        "g = x**2 * y + sp.cos(x * y)  # Multivariable func\n",
        "dg_dx = sp.diff(g, x)\n",
        "dg_dy = sp.diff(g, y)\n",
        "print(\"Partial wrt x:\", dg_dx)  # 2*x*y - sin(x*y)*y\n",
        "print(\"Partial wrt y:\", dg_dy)  # x**2 - sin(x*y)*x\n",
        "grad_g = sp.Matrix([dg_dx, dg_dy])\n",
        "print(\"Gradient:\", grad_g)"
      ],
      "metadata": {
        "colab": {
          "base_uri": "https://localhost:8080/"
        },
        "id": "Lw2tgOXti2Nk",
        "outputId": "26b8734e-6c2c-4f73-bc5d-4ae7eedfc5a0"
      },
      "execution_count": 5,
      "outputs": [
        {
          "output_type": "stream",
          "name": "stdout",
          "text": [
            "Partial wrt x: 2*x*y - y*sin(x*y)\n",
            "Partial wrt y: x**2 - x*sin(x*y)\n",
            "Gradient: Matrix([[2*x*y - y*sin(x*y)], [x**2 - x*sin(x*y)]])\n"
          ]
        }
      ]
    },
    {
      "cell_type": "markdown",
      "source": [
        "AI Edge: Symbolically derive a loss func for embeddings (e.g., MSE between vectors)."
      ],
      "metadata": {
        "id": "10NEgSPAkmpE"
      }
    },
    {
      "cell_type": "code",
      "source": [
        "vec1, vec2 = sp.symbols('vec1 vec2')  # Placeholder scalars; extend to matrices\n",
        "loss = (vec1 - vec2)**2\n",
        "dloss_dvec1 = sp.diff(loss, vec1)\n",
        "print(\"Gradient for embedding loss:\", dloss_dvec1)  # 2*(vec1 - vec2)\n",
        "\n",
        "sp.lambdify((vec1, vec2), dloss_dvec1)(3, 1)"
      ],
      "metadata": {
        "colab": {
          "base_uri": "https://localhost:8080/"
        },
        "id": "K39XWZpAknPW",
        "outputId": "3378cb3f-c0bb-4093-fdfd-72b03eb891f8"
      },
      "execution_count": 7,
      "outputs": [
        {
          "output_type": "stream",
          "name": "stdout",
          "text": [
            "Gradient for embedding loss: 2*vec1 - 2*vec2\n"
          ]
        },
        {
          "output_type": "execute_result",
          "data": {
            "text/plain": [
              "4"
            ]
          },
          "metadata": {},
          "execution_count": 7
        }
      ]
    },
    {
      "cell_type": "markdown",
      "source": [
        "Embedding Simulator"
      ],
      "metadata": {
        "id": "5BBYo7dUpjJM"
      }
    },
    {
      "cell_type": "code",
      "source": [
        "np.random.seed(42)  # Reproducible\n",
        "embeddings = np.random.randn(100, 5)  # 100 vectors, 5 dims (scale up for realism)\n",
        "# Or Torch: embeddings = torch.randn(100, 5)"
      ],
      "metadata": {
        "id": "DwFHZ6CrpkOy"
      },
      "execution_count": 8,
      "outputs": []
    },
    {
      "cell_type": "markdown",
      "source": [
        "Compute distances: Euclidean and Cosine (core for semantic search in RAG)."
      ],
      "metadata": {
        "id": "1QQRFWGPpsrH"
      }
    },
    {
      "cell_type": "code",
      "source": [
        "from scipy.spatial.distance import euclidean, cosine\n",
        "dist_euc = euclidean(embeddings[0], embeddings[1])\n",
        "dist_cos = cosine(embeddings[0], embeddings[1])  # 0=similar, 2=dissimilar\n",
        "print(f\"Euclidean: {dist_euc}, Cosine: {dist_cos}\")\n",
        "\n",
        "np.linalg.norm(embeddings[:, None] - embeddings[None, :], axis=-1)\n"
      ],
      "metadata": {
        "colab": {
          "base_uri": "https://localhost:8080/"
        },
        "id": "cLF3HqfAptdq",
        "outputId": "6e165f57-8c88-4fa0-e13e-44e7f890cd69"
      },
      "execution_count": 10,
      "outputs": [
        {
          "output_type": "stream",
          "name": "stdout",
          "text": [
            "Euclidean: 2.8410503394788553, Cosine: 1.2033056951320684\n"
          ]
        },
        {
          "output_type": "execute_result",
          "data": {
            "text/plain": [
              "array([[0.        , 2.84105034, 3.90183372, ..., 2.86408821, 3.45999278,\n",
              "        2.9300409 ],\n",
              "       [2.84105034, 0.        , 3.42585936, ..., 3.81450498, 1.28538593,\n",
              "        3.49753516],\n",
              "       [3.90183372, 3.42585936, 0.        , ..., 4.7392964 , 3.95937371,\n",
              "        1.64680394],\n",
              "       ...,\n",
              "       [2.86408821, 3.81450498, 4.7392964 , ..., 0.        , 3.84334867,\n",
              "        4.06059939],\n",
              "       [3.45999278, 1.28538593, 3.95937371, ..., 3.84334867, 0.        ,\n",
              "        3.89250476],\n",
              "       [2.9300409 , 3.49753516, 1.64680394, ..., 4.06059939, 3.89250476,\n",
              "        0.        ]])"
            ]
          },
          "metadata": {},
          "execution_count": 10
        }
      ]
    },
    {
      "cell_type": "markdown",
      "source": [
        "Visualize: Clusters to intuit patterns."
      ],
      "metadata": {
        "id": "2q0h2Zhcp9A6"
      }
    },
    {
      "cell_type": "code",
      "source": [
        "plt.scatter(embeddings[:, 0], embeddings[:, 1], c='blue')  # 2D projection\n",
        "plt.title(\"Vector Embeddings Simulator\")\n",
        "plt.xlabel(\"Dim 1\"); plt.ylabel(\"Dim 2\")\n",
        "plt.show()\n",
        "# Add lines for distances: plt.plot([embeddings[0,0], embeddings[1,0]], [embeddings[0,1], embeddings[1,1]], 'r--')"
      ],
      "metadata": {
        "colab": {
          "base_uri": "https://localhost:8080/",
          "height": 472
        },
        "id": "8h1iqeX_p9tP",
        "outputId": "757305d1-b8e2-48dc-b428-21b1eb5df9c1"
      },
      "execution_count": 11,
      "outputs": [
        {
          "output_type": "display_data",
          "data": {
            "text/plain": [
              "<Figure size 640x480 with 1 Axes>"
            ],
            "image/png": "[encoded data removed]"
          },
          "metadata": {}
        }
      ]
    },
    {
      "cell_type": "markdown",
      "source": [
        "Ethics/Responsible AI Integration (20 mins): Quick bias check—simulate embedding bias: Generate skewed vectors (e.g., cluster by \"group\" labels), compute avg distances between groups. Flag if >threshold in code."
      ],
      "metadata": {
        "id": "AXvXDslfqFm6"
      }
    },
    {
      "cell_type": "code",
      "source": [
        "labels = np.array([0]*50 + [1]*50)  # Two groups\n",
        "intra_dist = np.mean([cosine(embeddings[i], embeddings[j]) for i in range(50) for j in range(50) if i!=j])  # Optimize this!\n",
        "print(\"Intra-group cosine dist:\", intra_dist)  # Add Fairlearn-style check later phases"
      ],
      "metadata": {
        "colab": {
          "base_uri": "https://localhost:8080/"
        },
        "id": "HOo6oB1FqG3b",
        "outputId": "d185ddc1-3a79-4923-d96d-1472a8b9d189"
      },
      "execution_count": 12,
      "outputs": [
        {
          "output_type": "stream",
          "name": "stdout",
          "text": [
            "Intra-group cosine dist: 1.0128654334962284\n"
          ]
        }
      ]
    }
  ]
}