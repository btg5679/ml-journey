{
  "nbformat": 4,
  "nbformat_minor": 0,
  "metadata": {
    "colab": {
      "provenance": []
    },
    "kernelspec": {
      "name": "python3",
      "display_name": "Python 3"
    },
    "language_info": {
      "name": "python"
    }
  },
  "cells": [
    {
      "cell_type": "code",
      "execution_count": null,
      "metadata": {
        "id": "ZKobPPLuXADe"
      },
      "outputs": [],
      "source": []
    },
    {
      "cell_type": "code",
      "source": [
        "import sympy as sp\n",
        "\n",
        "# define symbol\n",
        "x = sp.symbols('x')\n",
        "\n",
        "# simple function: f(x) = x^2 + sin(x)\n",
        "f = x**2 + sp.sin(x)\n",
        "\n",
        "# compute derivative symbolically\n",
        "df_dx = sp.diff(f, x)\n",
        "\n",
        "# output the derivative\n",
        "print(\"Derivative of f(x): \", df_dx)\n",
        "\n",
        "# Evaluate numerically at x=0 for sanity check\n",
        "numerical_eval = df_dx.subs(x, 0)\n",
        "print(\"Evaluated at x=0: \", numerical_eval) # should be cos(0) + 2*0 = 1\n",
        "\n",
        "# Extend: Lambdify for callable function (like in AI optimizers)\n",
        "# Specify modules='sympy' to ensure correct evaluation of SymPy objects\n",
        "df_func = sp.lambdify(x, df_dx, modules='sympy')\n",
        "print(\"Deriviatve at x=π/2: \", df_func(sp.pi/2)) # # cos(π/2) + 2*(π/2) ≈ 3.1416"
      ],
      "metadata": {
        "collapsed": true,
        "id": "1iStvCB_XOnL"
      },
      "execution_count": null,
      "outputs": []
    },
    {
      "cell_type": "code",
      "source": [
        "import sympy as sp\n",
        "\n",
        "# define symbol\n",
        "x = sp.symbols('x')\n",
        "\n",
        "# Tweaked function: Gaussian-like + cosine (prob densities in AI)\n",
        "f = sp.exp(-x**2) + sp.cos(2*x)\n",
        "\n",
        "# compute derivative symbolically\n",
        "df_dx = sp.diff(f, x)\n",
        "\n",
        "# output the derivative\n",
        "print(\"Derivative of f(x): \", df_dx) # Expected: -2*x*exp(-x**2) - 2*sin(2*x)\n",
        "\n",
        "# Evaluate numerically at x=0 for sanity check\n",
        "numerical_eval = df_dx.subs(x, 0)\n",
        "print(\"Evaluated at x=0: \", numerical_eval) # Should be 0 (manual verify: -2*0*exp(0) - 2*sin(0) = 0)\n",
        "\n",
        "# Lambdify for reusable func (like in AI grads)\n",
        "df_func = sp.lambdify(x, df_dx, modules='sympy')\n",
        "print(\"Derivative at x=1:\", df_func(1))  # Approx: -2*1*exp(-1) - 2*sin(2) ≈ -0.7358 - 1.8186 ≈ -2.554\n",
        "df_func = sp.lambdify(x, df_dx, modules='numpy')\n",
        "print(\"Derivative at x=1:\", df_func(1))  # Approx: -2*1*exp(-1) - 2*sin(2) ≈ -0.7358 - 1.8186 ≈ -2.554"
      ],
      "metadata": {
        "colab": {
          "base_uri": "https://localhost:8080/"
        },
        "id": "hR-I_F5z1ury",
        "outputId": "aa63726f-ac08-4b1a-f72f-e620ff295336"
      },
      "execution_count": 3,
      "outputs": [
        {
          "output_type": "stream",
          "name": "stdout",
          "text": [
            "Derivative of f(x):  -2*x*exp(-x**2) - 2*sin(2*x)\n",
            "Evaluated at x=0:  0\n",
            "Derivative at x=1: -2*sin(2) - 2*exp(-1)\n",
            "Derivative at x=1: -2.554353735994248\n"
          ]
        }
      ]
    }
  ]
}