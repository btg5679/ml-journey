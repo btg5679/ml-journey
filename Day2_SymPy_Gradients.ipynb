{
  "nbformat": 4,
  "nbformat_minor": 0,
  "metadata": {
    "colab": {
      "provenance": []
    },
    "kernelspec": {
      "name": "python3",
      "display_name": "Python 3"
    },
    "language_info": {
      "name": "python"
    }
  },
  "cells": [
    {
      "cell_type": "code",
      "execution_count": null,
      "metadata": {
        "id": "ZKobPPLuXADe"
      },
      "outputs": [],
      "source": []
    },
    {
      "cell_type": "code",
      "source": [
        "import sympy as sp\n",
        "\n",
        "# define symbol\n",
        "x = sp.symbols('x')\n",
        "\n",
        "# simple function: f(x) = x^2 + sin(x)\n",
        "f = x**2 + sp.sin(x)\n",
        "\n",
        "# compute derivative symbolically\n",
        "df_dx = sp.diff(f, x)\n",
        "\n",
        "# output the derivative\n",
        "print(\"Derivative of f(x): \", df_dx)\n",
        "\n",
        "# Evaluate numerically at x=0 for sanity check\n",
        "numerical_eval = df_dx.subs(x, 0)\n",
        "print(\"Evaluated at x=0: \", numerical_eval) # should be cos(0) + 2*0 = 1\n",
        "\n",
        "# Extend: Lambdify for callable function (like in AI optimizers)\n",
        "# Specify modules='sympy' to ensure correct evaluation of SymPy objects\n",
        "df_func = sp.lambdify(x, df_dx, modules='sympy')\n",
        "print(\"Deriviatve at x=π/2: \", df_func(sp.pi/2)) # # cos(π/2) + 2*(π/2) ≈ 3.1416"
      ],
      "metadata": {
        "collapsed": true,
        "id": "1iStvCB_XOnL"
      },
      "execution_count": null,
      "outputs": []
    },
    {
      "cell_type": "code",
      "source": [
        "import sympy as sp\n",
        "\n",
        "# define symbol\n",
        "x = sp.symbols('x')\n",
        "\n",
        "# Tweaked function: Gaussian-like + cosine (prob densities in AI)\n",
        "f = sp.exp(-x**2) + sp.cos(2*x)\n",
        "\n",
        "# compute derivative symbolically\n",
        "df_dx = sp.diff(f, x)\n",
        "\n",
        "# output the derivative\n",
        "print(\"Derivative of f(x): \", df_dx) # Expected: -2*x*exp(-x**2) - 2*sin(2*x)\n",
        "\n",
        "# Evaluate numerically at x=0 for sanity check\n",
        "numerical_eval = df_dx.subs(x, 0)\n",
        "print(\"Evaluated at x=0: \", numerical_eval) # Should be 0 (manual verify: -2*0*exp(0) - 2*sin(0) = 0)\n",
        "\n",
        "# Lambdify for reusable func (like in AI grads)\n",
        "df_func = sp.lambdify(x, df_dx, modules='sympy')\n",
        "print(\"Derivative at x=1:\", df_func(1))  # Approx: -2*1*exp(-1) - 2*sin(2) ≈ -0.7358 - 1.8186 ≈ -2.554\n",
        "df_func = sp.lambdify(x, df_dx, modules='numpy')\n",
        "print(\"Derivative at x=1:\", df_func(1))  # Approx: -2*1*exp(-1) - 2*sin(2) ≈ -0.7358 - 1.8186 ≈ -2.554"
      ],
      "metadata": {
        "colab": {
          "base_uri": "https://localhost:8080/"
        },
        "id": "hR-I_F5z1ury",
        "outputId": "aa63726f-ac08-4b1a-f72f-e620ff295336"
      },
      "execution_count": 3,
      "outputs": [
        {
          "output_type": "stream",
          "name": "stdout",
          "text": [
            "Derivative of f(x):  -2*x*exp(-x**2) - 2*sin(2*x)\n",
            "Evaluated at x=0:  0\n",
            "Derivative at x=1: -2*sin(2) - 2*exp(-1)\n",
            "Derivative at x=1: -2.554353735994248\n"
          ]
        }
      ]
    },
    {
      "cell_type": "code",
      "source": [
        "import sympy as sp\n",
        "\n",
        "# Multivariable: Define symbols\n",
        "x, y = sp.symbols('x y')\n",
        "\n",
        "# Function: g(x,y) = x^2 * y + sin(x) + cos(y)  (Mix for embedding-like non-linearity)\n",
        "g = x**2 * y + sp.sin(x) + sp.cos(y)\n",
        "\n",
        "# Partial wrt x\n",
        "dg_dx = sp.diff(g, x)\n",
        "print(\"Partial dg/dx:\", dg_dx)\n",
        "\n",
        "# Partial wrt y\n",
        "dg_dy = sp.diff(g, y)\n",
        "print(\"Partial dg/dy:\", dg_dy)\n",
        "\n",
        "# Full gradient vector\n",
        "gradient = [dg_dx, dg_dy]\n",
        "print(\"Gradient:\", gradient)\n",
        "\n",
        "# Hessian for second-order (advanced optim like Adam in AI)\n",
        "hessian = sp.hessian(g, (x, y))\n",
        "print(\"Hessian matrix:\", hessian)\n",
        "\n",
        "# Numerical sub: Eval gradient at (x=1, y=0)\n",
        "grad_eval = [dg_dx.subs({x:1, y:0}), dg_dy.subs({x:1, y:0})]\n",
        "print(\"Gradient at (1,0):\", grad_eval)  # [2*1*0 + cos(1), 1^2 - sin(0)] = [cos(1), 1]"
      ],
      "metadata": {
        "colab": {
          "base_uri": "https://localhost:8080/"
        },
        "id": "EcMg382N4WqZ",
        "outputId": "34687fa3-3f00-4a1a-8f12-cc9b791b2387"
      },
      "execution_count": 4,
      "outputs": [
        {
          "output_type": "stream",
          "name": "stdout",
          "text": [
            "Partial dg/dx: 2*x*y + cos(x)\n",
            "Partial dg/dy: x**2 - sin(y)\n",
            "Gradient: [2*x*y + cos(x), x**2 - sin(y)]\n",
            "Hessian matrix: Matrix([[2*y - sin(x), 2*x], [2*x, -cos(y)]])\n",
            "Gradient at (1,0): [cos(1), 1]\n"
          ]
        }
      ]
    },
    {
      "cell_type": "code",
      "source": [
        "import numpy as np\n",
        "\n",
        "# Random vectors (embeddings sim)\n",
        "vec1 = np.random.randn(3)  # 3D for simplicity\n",
        "vec2 = np.random.randn(3)\n",
        "\n",
        "# Distance (sqrt of sum squares—link to multivariable)\n",
        "dist = np.linalg.norm(vec1 - vec2)\n",
        "print(\"Embedding distance:\", dist)"
      ],
      "metadata": {
        "colab": {
          "base_uri": "https://localhost:8080/"
        },
        "id": "firGqe5R5Wvu",
        "outputId": "06cc1a87-ce92-4dc0-84c0-5b5bdfe33663"
      },
      "execution_count": 6,
      "outputs": [
        {
          "output_type": "stream",
          "name": "stdout",
          "text": [
            "Embedding distance: 3.5033846032696143\n"
          ]
        }
      ]
    }
  ]
}